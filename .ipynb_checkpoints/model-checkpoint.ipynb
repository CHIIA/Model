{
 "cells": [
  {
   "cell_type": "code",
   "execution_count": 91,
   "metadata": {
    "collapsed": true
   },
   "outputs": [],
   "source": [
    "import numpy as np\n",
    "import os\n",
    "from sklearn.linear_model import LogisticRegression\n",
    "from sklearn.svm import SVC\n",
    "from sklearn.tree import DecisionTreeClassifier\n",
    "import fasttext\n",
    "from prepo import preprocessor"
   ]
  },
  {
   "cell_type": "code",
   "execution_count": 92,
   "metadata": {
    "collapsed": true
   },
   "outputs": [
    {
     "ename": "AttributeError",
     "evalue": "module 'util' has no attribute 'preprocessor'",
     "output_type": "error",
     "traceback": [
      "\u001b[0;31m---------------------------------------------------------------------------\u001b[0m",
      "\u001b[0;31mAttributeError\u001b[0m                            Traceback (most recent call last)",
      "\u001b[0;32m<ipython-input-92-d9ec820594e6>\u001b[0m in \u001b[0;36m<module>\u001b[0;34m()\u001b[0m\n\u001b[1;32m     15\u001b[0m      \u001b[0;32mwith\u001b[0m \u001b[0mopen\u001b[0m \u001b[0;34m(\u001b[0m\u001b[0mpath_relevant\u001b[0m \u001b[0;34m+\u001b[0m \u001b[0mfilename\u001b[0m\u001b[0;34m,\u001b[0m \u001b[0;34m\"r\"\u001b[0m\u001b[0;34m)\u001b[0m \u001b[0;32mas\u001b[0m \u001b[0mf\u001b[0m\u001b[0;34m:\u001b[0m\u001b[0;34m\u001b[0m\u001b[0m\n\u001b[1;32m     16\u001b[0m         \u001b[0mtext\u001b[0m \u001b[0;34m=\u001b[0m \u001b[0mf\u001b[0m\u001b[0;34m.\u001b[0m\u001b[0mread\u001b[0m\u001b[0;34m(\u001b[0m\u001b[0;34m)\u001b[0m\u001b[0;34m.\u001b[0m\u001b[0mreplace\u001b[0m\u001b[0;34m(\u001b[0m\u001b[0;34mu'\\xa0'\u001b[0m\u001b[0;34m,\u001b[0m \u001b[0;34m' '\u001b[0m\u001b[0;34m)\u001b[0m\u001b[0;34m.\u001b[0m\u001b[0mreplace\u001b[0m\u001b[0;34m(\u001b[0m\u001b[0;34m'\\n'\u001b[0m\u001b[0;34m,\u001b[0m \u001b[0;34m' '\u001b[0m\u001b[0;34m)\u001b[0m\u001b[0;34m\u001b[0m\u001b[0m\n\u001b[0;32m---> 17\u001b[0;31m         \u001b[0mtoken\u001b[0m\u001b[0;34m.\u001b[0m\u001b[0mappend\u001b[0m\u001b[0;34m(\u001b[0m\u001b[0mutil\u001b[0m\u001b[0;34m.\u001b[0m\u001b[0mpreprocessor\u001b[0m\u001b[0;34m(\u001b[0m\u001b[0mtext\u001b[0m\u001b[0;34m)\u001b[0m\u001b[0;34m)\u001b[0m\u001b[0;34m\u001b[0m\u001b[0m\n\u001b[0m\u001b[1;32m     18\u001b[0m         \u001b[0my\u001b[0m\u001b[0;34m.\u001b[0m\u001b[0mappend\u001b[0m\u001b[0;34m(\u001b[0m\u001b[0;36m1\u001b[0m\u001b[0;34m)\u001b[0m\u001b[0;34m\u001b[0m\u001b[0m\n\u001b[1;32m     19\u001b[0m \u001b[0;34m\u001b[0m\u001b[0m\n",
      "\u001b[0;31mAttributeError\u001b[0m: module 'util' has no attribute 'preprocessor'"
     ]
    }
   ],
   "source": [
    "# Get text from files and proccess them to word vector\n",
    "path_relevant = 'dataset/2014/relevant/'\n",
    "path_unrelevant = 'dataset/2014/unrelevant/'\n",
    "\n",
    "path_category = ['category']\n",
    "\n",
    "token = []\n",
    "name = []\n",
    "x = list()\n",
    "y = list()\n",
    "c1 = 0\n",
    "c2 = 0\n",
    "\n",
    "for filename in os.listdir(path_relevant):\n",
    "     with open (path_relevant + filename, \"r\") as f:\n",
    "        text = f.read().replace(u'\\xa0', ' ').replace('\\n', ' ')\n",
    "        token.append(util.preprocessor(text))\n",
    "        y.append(1)\n",
    "\n",
    "for filename in os.listdir(path_unrelevant):\n",
    "     with open (path_unrelevant + filename, \"r\") as f:\n",
    "        text = f.read().replace(u'\\xa0', ' ').replace('\\n', ' ')\n",
    "        token.append(util.preprocessor(text))\n",
    "        y.append(0)"
   ]
  },
  {
   "cell_type": "code",
   "execution_count": 42,
   "metadata": {},
   "outputs": [
    {
     "name": "stdout",
     "output_type": "stream",
     "text": [
      "7395 documents\n"
     ]
    }
   ],
   "source": [
    "bow_vectorizer = CountVectorizer(lowercase=False,\n",
    "                                 tokenizer=lambda x: x,\n",
    "                                 stop_words=None, \n",
    "                                 max_features=5000,\n",
    "                                 ngram_range=(1, 1),\n",
    "                                 binary=False)\n",
    "text_vec = bow_vectorizer.fit_transform(token)"
   ]
  },
  {
   "cell_type": "code",
   "execution_count": 68,
   "metadata": {},
   "outputs": [],
   "source": [
    "from sklearn.preprocessing import LabelEncoder\n",
    "from sklearn.naive_bayes import MultinomialNB\n",
    "from sklearn.metrics import confusion_matrix, accuracy_score, precision_recall_fscore_support\n",
    "\n",
    "sum = 0\n",
    "# print(\"accuracy for 50 times:\\n\")\n",
    "# for i in range(50):\n",
    "\n",
    "# Split the dataset to train set and test set\n",
    "msk = np.random.rand(len(y)) < 0.75\n",
    "\n",
    "train_x = text_vec[msk]\n",
    "test_x = text_vec[~msk]\n",
    "\n",
    "y = np.array(y)\n",
    "train_y = y[msk]\n",
    "test_y = y[~msk]\n",
    "\n",
    "name_id = np.arange(len(y))\n",
    "train_name_id = name_id[msk]\n",
    "test_name_id = name_id[~msk]"
   ]
  },
  {
   "cell_type": "code",
   "execution_count": 75,
   "metadata": {},
   "outputs": [],
   "source": [
    "with open('train.txt', 'w') as trainf, open('test.txt', 'w') as testf:\n",
    "    for i in range(len(token)):\n",
    "        if msk[i]:\n",
    "            trainf.write('__label__{} {}\\n'.format(y[i], ' '.join(token[i])))\n",
    "        else:\n",
    "            testf.write('__label__{} {}\\n'.format(y[i], ' '.join(token[i])))"
   ]
  },
  {
   "cell_type": "code",
   "execution_count": 82,
   "metadata": {},
   "outputs": [
    {
     "name": "stdout",
     "output_type": "stream",
     "text": [
      "P@1: 0.9722373434948285\n",
      "R@1: 0.9722373434948285\n",
      "Number of examples: 1837\n"
     ]
    }
   ],
   "source": [
    "classifier = fasttext.supervised('train.txt', 'model')\n",
    "result = classifier.test('test.txt')\n",
    "print('P@1:', result.precision)\n",
    "print('R@1:', result.recall)\n",
    "print('Number of examples:', result.nexamples)"
   ]
  },
  {
   "cell_type": "code",
   "execution_count": 84,
   "metadata": {},
   "outputs": [
    {
     "name": "stdout",
     "output_type": "stream",
     "text": [
      "LogisticRegression\n",
      "----------------------\n",
      "confusion matrix:\n",
      "[[1784    2]\n",
      " [   3   48]]\n",
      "\n",
      "accuracy: 0.9973\n",
      "\n",
      "  prec  rec   F1\n",
      "0 1.00 1.00 1.00\n",
      "1 0.96 0.94 0.95\n",
      "\n",
      "\n",
      "\n",
      "SVC\n",
      "----------------------\n",
      "confusion matrix:\n",
      "[[1784    2]\n",
      " [   3   48]]\n",
      "\n",
      "accuracy: 0.9973\n",
      "\n",
      "  prec  rec   F1\n",
      "0 1.00 1.00 1.00\n",
      "1 0.96 0.94 0.95\n",
      "\n",
      "\n",
      "\n",
      "NB\n",
      "----------------------\n",
      "confusion matrix:\n",
      "[[1784    2]\n",
      " [   3   48]]\n",
      "\n",
      "accuracy: 0.9973\n",
      "\n",
      "  prec  rec   F1\n",
      "0 1.00 1.00 1.00\n",
      "1 0.96 0.94 0.95\n",
      "\n",
      "\n",
      "\n",
      "DecisionTree\n",
      "----------------------\n",
      "confusion matrix:\n",
      "[[1784    2]\n",
      " [   3   48]]\n",
      "\n",
      "accuracy: 0.9973\n",
      "\n",
      "  prec  rec   F1\n",
      "0 1.00 1.00 1.00\n",
      "1 0.96 0.94 0.95\n",
      "\n",
      "\n",
      "\n"
     ]
    }
   ],
   "source": [
    "names = ['LogisticRegression', 'SVC' , 'NB', 'DecisionTree']\n",
    "classifers = [LogisticRegression(), SVC(), MultinomialNB(), DecisionTreeClassifier()]\n",
    "\n",
    "for name, classifer in zip(names, classifers):\n",
    "    print(name)\n",
    "    print('----------------------')\n",
    "    preds_bow = LR.predict(test_x)\n",
    "    confusion = confusion_matrix(test_y, preds_bow)\n",
    "    acc_bow = accuracy_score(test_y, preds_bow)\n",
    "    precisions_bow, recalls_bow, f1_scores_bow, _ = precision_recall_fscore_support(test_y, preds_bow)\n",
    "    print('confusion matrix:\\n{}'.format( confusion))\n",
    "    print('\\naccuracy: {:.4}'.format(acc_bow))\n",
    "    print(\"\\n{:>1} {:>4} {:>4} {:>4}\".format(\"\", \"prec\", \"rec\", \"F1\"))\n",
    "    for (idx, scores) in enumerate(zip(precisions_bow, recalls_bow, f1_scores_bow)):\n",
    "        print(\"{:>1} {:.2f} {:.2f} {:.2f}\".format(\n",
    "            idx, scores[0], scores[1], scores[2]\n",
    "        ))\n",
    "    print('\\n\\n')"
   ]
  },
  {
   "cell_type": "code",
   "execution_count": null,
   "metadata": {},
   "outputs": [],
   "source": [
    "# Train with MultinomialNB\n",
    "classifier = MultinomialNB()\n",
    "classifier.fit(train_x, train_y)\n",
    "\n",
    "# Get prediction\n",
    "preds_bow = classifier.predict(test_x)\n",
    "to_print = [le.inverse_transform(pred) for pred in preds_bow ]\n",
    "# print(to_print)\n",
    "\n",
    "result = []\n",
    "for name_id, p, pre, iy in zip(test_name_id, classifier.predict_proba(test_x), classifier.predict(test_x), test_y):\n",
    "    result.append((p[0], name[name_id], pre, iy))\n",
    "\n",
    "result.sort(reverse=True)\n",
    "rank = 1\n",
    "for res in result:\n",
    "    print('{rank:6} Filename: {filename:30} True Class: {iy}'.format(rank=rank, filename=res[1], iy = res[3]))\n",
    "#     print('{rank:6} Filename: {filename:30} P: {p: 20f} Class: {iy}'.format(rank=rank, filename=res[1], p=res[0], iy = res[3]))\n",
    "    rank += 1\n",
    "    \n",
    "result_train = []\n",
    "for name_id, p, pre, iy in zip(train_name_id, classifier.predict_proba(train_x), classifier.predict(train_x), train_y):\n",
    "    result_train.append((p[0], name[name_id], pre, iy))\n",
    "\n",
    "result_train.sort(reverse=True)\n",
    "rank = 1\n",
    "for res in result_train:\n",
    "    print('{rank:6} Filename: {filename:30} True Class: {iy}'.format(rank=rank, filename=res[1], iy = res[3]))\n",
    "#     print('{rank:6} Filename: {filename:30} P: {p: 20f} Class: {iy}'.format(rank=rank, filename=res[1], p=res[0], iy = res[3]))\n",
    "    rank += 1  "
   ]
  },
  {
   "cell_type": "code",
   "execution_count": 13,
   "metadata": {},
   "outputs": [
    {
     "name": "stdout",
     "output_type": "stream",
     "text": [
      "(667, 5000)\n"
     ]
    }
   ],
   "source": [
    "print(train_x.shape)"
   ]
  },
  {
   "cell_type": "code",
   "execution_count": null,
   "metadata": {},
   "outputs": [],
   "source": [
    "def show_most_informative_features(vectorizer, clf, n=20):\n",
    "    feature_names = vectorizer.get_feature_names()\n",
    "    coefs_with_fns = sorted(zip(clf.coef_[0], feature_names))\n",
    "    top = zip(coefs_with_fns[:n], coefs_with_fns[:-(n + 1):-1])\n",
    "    for (coef_1, fn_1), (coef_2, fn_2) in top:\n",
    "        print(\"\\t%.4f\\t%-15s\\t\\t%.4f\\t%-15s\" % (coef_1, fn_1, coef_2, fn_2))\n",
    "\n",
    "show_most_informative_features(bow_vectorizer, classifier, 1000)  "
   ]
  },
  {
   "cell_type": "code",
   "execution_count": null,
   "metadata": {
    "collapsed": true
   },
   "outputs": [],
   "source": []
  }
 ],
 "metadata": {
  "kernelspec": {
   "display_name": "Python 3",
   "language": "python",
   "name": "python3"
  },
  "language_info": {
   "codemirror_mode": {
    "name": "ipython",
    "version": 3
   },
   "file_extension": ".py",
   "mimetype": "text/x-python",
   "name": "python",
   "nbconvert_exporter": "python",
   "pygments_lexer": "ipython3",
   "version": "3.6.2"
  }
 },
 "nbformat": 4,
 "nbformat_minor": 2
}
